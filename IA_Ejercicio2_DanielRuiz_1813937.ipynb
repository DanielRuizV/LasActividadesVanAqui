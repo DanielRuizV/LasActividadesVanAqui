{
  "nbformat": 4,
  "nbformat_minor": 0,
  "metadata": {
    "colab": {
      "name": "IA_Ejercicio1_DanielRuiz_1813937.ipynb",
      "provenance": [],
      "collapsed_sections": []
    },
    "kernelspec": {
      "name": "python3",
      "display_name": "Python 3"
    },
    "language_info": {
      "name": "python"
    }
  },
  "cells": [
    {
      "cell_type": "code",
      "execution_count": 27,
      "metadata": {
        "colab": {
          "base_uri": "https://localhost:8080/"
        },
        "id": "EaTqMAl5cJM_",
        "outputId": "121ad61a-02ae-46b0-b95e-6754e7cc855b"
      },
      "outputs": [
        {
          "output_type": "stream",
          "name": "stdout",
          "text": [
            "Escribe tu nombre aquí\n",
            "Daniel \n",
            "Bienvenido,Daniel \n"
          ]
        }
      ],
      "source": [
        "#Daniel Alejandro Ruiz Velasco 1813937 IMTC\n",
        "\n",
        "#EJERCICIO 1\n",
        "\n",
        "print('Escribe tu nombre aquí') \n",
        "name = input()   \n",
        "\n",
        "if name == 'Ana':\n",
        "  print('No eres bienvenida aqui, Ana.')\n",
        "  \n",
        "if name == 'Juan':\n",
        " print('No eres bienvenido aqui, Juan.' )\n",
        "  \n",
        "if name == 'Pedro':\n",
        "  print('No eres bienvenido aqui, Pedro.')\n",
        "  \n",
        "else:\n",
        "  print('Bienvenido,{}'.format(name))"
      ]
    },
    {
      "cell_type": "code",
      "source": [
        "#Daniel Alejandro Ruiz Velasco 1813937 IMTC\n",
        "\n",
        "#EJERCICIO 2\n",
        "\n",
        "numbers = [66, 78, 2, 45, 97, 17, 34, 105, 44, 52]\n",
        "\n",
        "print(numbers)\n",
        "\n",
        "idx = len(numbers) - 1 #Se utilizo un bucle de tiempo sobre la lista impresa  \n",
        "newList = []           #para obtener su inverso\n",
        "\n",
        "while (idx >= 0):\n",
        "  newList.append(numbers[idx]) #Se usa while para almacenar e iterar cada \n",
        "  idx = idx - 1                #elemento de la lista\n",
        "\n",
        "print(newList)"
      ],
      "metadata": {
        "colab": {
          "base_uri": "https://localhost:8080/"
        },
        "id": "nKE4mAuzfugX",
        "outputId": "a7baccb1-e597-4e57-80a2-6ff239da1130"
      },
      "execution_count": 31,
      "outputs": [
        {
          "output_type": "stream",
          "name": "stdout",
          "text": [
            "[66, 78, 2, 45, 97, 17, 34, 105, 44, 52]\n",
            "[52, 44, 105, 34, 17, 97, 45, 2, 78, 66]\n"
          ]
        }
      ]
    },
    {
      "cell_type": "code",
      "source": [
        "#Daniel Alejandro Ruiz Velasco 1813937 IMTC\n",
        "\n",
        "#EJERCICIO 3\n",
        "\n",
        "marco = [\"*****************\",\"* HOLA *\", \"* ME   *\",\"* LLAMO*\", \"* DANIEL*\", \"* Y     *\", \"* ESTE *\", \"* ES *\", \"* UN *\", \"*MARCO*\",\"*****************\"]\n",
        "for x in marco: \n",
        "  print (x)\n"
      ],
      "metadata": {
        "colab": {
          "base_uri": "https://localhost:8080/"
        },
        "id": "VkUzEMKrp7Kw",
        "outputId": "1d1809d1-62bc-4e18-bb73-a5b0487fda9d"
      },
      "execution_count": 11,
      "outputs": [
        {
          "output_type": "stream",
          "name": "stdout",
          "text": [
            "*****************\n",
            "* HOLA *\n",
            "* ME   *\n",
            "* LLAMO*\n",
            "* DANIEL*\n",
            "* Y     *\n",
            "* ESTE *\n",
            "* ES *\n",
            "* UN *\n",
            "*MARCO*\n",
            "*****************\n"
          ]
        }
      ]
    },
    {
      "cell_type": "code",
      "source": [
        ""
      ],
      "metadata": {
        "id": "hwnQukrGMqrp"
      },
      "execution_count": null,
      "outputs": []
    }
  ]
}